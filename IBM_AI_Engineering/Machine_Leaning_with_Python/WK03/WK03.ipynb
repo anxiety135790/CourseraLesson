{
 "cells": [
  {
   "metadata": {},
   "cell_type": "markdown",
   "source": "# K-Nearest Neighbors",
   "id": "2b69b503f891d50"
  },
  {
   "metadata": {},
   "cell_type": "code",
   "source": [
    "try:\n",
    "    import numpy as np\n",
    "    import matplotlib.pyplot as plt\n",
    "    import pandas as pd\n",
    "    import numpy as np\n",
    "    from sklearn import preprocessing\n",
    "except ImportError:\n",
    "    import  pip\n",
    "    pip.main([\"install\", \"upgrade\"] )\n",
    "    pip.main([\"install\", \"numpy\",\"matplotlib\",\"pandas\",\"numpy\",\"scikit-learn ==0.23.1\"])\n",
    "    import numpy as np\n",
    "    import matplotlib.pyplot as plt\n",
    "    import pandas as pd\n",
    "    import numpy as np\n",
    "    from sklearn import preprocessing \n",
    "\n",
    "\n"
   ],
   "id": "6d924f0700f03e8f",
   "outputs": [],
   "execution_count": null
  },
  {
   "metadata": {},
   "cell_type": "code",
   "source": [
    "df = pd.read_csv('./src/teleCust1000t.csv')\n",
    "df.head()\n"
   ],
   "id": "eceb524986d091dd",
   "outputs": [],
   "execution_count": null
  },
  {
   "metadata": {},
   "cell_type": "code",
   "source": "",
   "id": "58cf3cecf867cd89",
   "outputs": [],
   "execution_count": null
  }
 ],
 "metadata": {
  "kernelspec": {
   "display_name": "Python 3",
   "language": "python",
   "name": "python3"
  },
  "language_info": {
   "codemirror_mode": {
    "name": "ipython",
    "version": 2
   },
   "file_extension": ".py",
   "mimetype": "text/x-python",
   "name": "python",
   "nbconvert_exporter": "python",
   "pygments_lexer": "ipython2",
   "version": "2.7.6"
  }
 },
 "nbformat": 4,
 "nbformat_minor": 5
}
