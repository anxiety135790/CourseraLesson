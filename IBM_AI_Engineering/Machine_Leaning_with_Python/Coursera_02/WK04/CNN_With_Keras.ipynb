{
 "cells": [
  {
   "cell_type": "code",
   "id": "initial_id",
   "metadata": {
    "collapsed": true,
    "ExecuteTime": {
     "end_time": "2024-08-13T08:58:44.528967Z",
     "start_time": "2024-08-13T08:58:44.524399Z"
    }
   },
   "source": [
    ""
   ],
   "outputs": [],
   "execution_count": 3
  },
  {
   "metadata": {},
   "cell_type": "markdown",
   "source": "",
   "id": "bb333a103dfd91ee"
  },
  {
   "metadata": {
    "ExecuteTime": {
     "end_time": "2024-08-13T08:58:52.157636Z",
     "start_time": "2024-08-13T08:58:52.150245Z"
    }
   },
   "cell_type": "code",
   "source": [
    "try:\n",
    "    import keras\n",
    "except ImportError:\n",
    "    import pip\n",
    "    pip.main(['install','keras'])\n",
    "from keras.models import  Sequential\n",
    "from keras.layers import Dense\n",
    "from keras.utils import to_categorical\n",
    "    "
   ],
   "id": "e39e07f58000d35e",
   "outputs": [],
   "execution_count": 7
  },
  {
   "metadata": {
    "ExecuteTime": {
     "end_time": "2024-08-13T08:58:44.641488Z",
     "start_time": "2024-08-13T08:58:44.604642Z"
    }
   },
   "cell_type": "code",
   "source": [
    "\n",
    "# to add convloutional layers\n",
    "from keras.layers.convolutional import Conv2D\n",
    "\n",
    "# to add pooling layers\n",
    "from keras.layers.convlolutional import MaxPooling2D\n",
    "\n",
    "#to flatten data for fully connected layers\n",
    "from keras.layers import Flatten"
   ],
   "id": "f643a97de94dec2f",
   "outputs": [
    {
     "ename": "ModuleNotFoundError",
     "evalue": "No module named 'keras.layers.convolutional'",
     "output_type": "error",
     "traceback": [
      "\u001B[0;31m---------------------------------------------------------------------------\u001B[0m",
      "\u001B[0;31mModuleNotFoundError\u001B[0m                       Traceback (most recent call last)",
      "Cell \u001B[0;32mIn[5], line 2\u001B[0m\n\u001B[1;32m      1\u001B[0m \u001B[38;5;66;03m# to add convloutional layers\u001B[39;00m\n\u001B[0;32m----> 2\u001B[0m \u001B[38;5;28;01mfrom\u001B[39;00m \u001B[38;5;21;01mkeras\u001B[39;00m\u001B[38;5;21;01m.\u001B[39;00m\u001B[38;5;21;01mlayers\u001B[39;00m\u001B[38;5;21;01m.\u001B[39;00m\u001B[38;5;21;01mconvolutional\u001B[39;00m \u001B[38;5;28;01mimport\u001B[39;00m Conv2D\n\u001B[1;32m      4\u001B[0m \u001B[38;5;66;03m# to add pooling layers\u001B[39;00m\n\u001B[1;32m      5\u001B[0m \u001B[38;5;28;01mfrom\u001B[39;00m \u001B[38;5;21;01mkeras\u001B[39;00m\u001B[38;5;21;01m.\u001B[39;00m\u001B[38;5;21;01mlayers\u001B[39;00m\u001B[38;5;21;01m.\u001B[39;00m\u001B[38;5;21;01mconvlolutional\u001B[39;00m \u001B[38;5;28;01mimport\u001B[39;00m MaxPooling2D\n",
      "\u001B[0;31mModuleNotFoundError\u001B[0m: No module named 'keras.layers.convolutional'"
     ]
    }
   ],
   "execution_count": 5
  },
  {
   "metadata": {
    "ExecuteTime": {
     "end_time": "2024-08-13T09:08:22.859955Z",
     "start_time": "2024-08-13T09:08:22.437941Z"
    }
   },
   "cell_type": "code",
   "source": [
    "# import data\n",
    "from keras.datasets import mnist\n",
    "\n",
    "#load data\n",
    "(X_train, Y_train), (X_test, Y_test) = mnist.load_data()\n",
    "\n",
    "X_train = X_train.reshape(X_train.shape[0],28,28,1).astype('float32')\n",
    "\n",
    "X_test = X_test.reshape(X_test.shape[0], 28, 28, 1).astype('float32')"
   ],
   "id": "cb7bf7d90dffa1f1",
   "outputs": [],
   "execution_count": 8
  },
  {
   "metadata": {
    "ExecuteTime": {
     "end_time": "2024-08-13T08:58:44.748252Z",
     "start_time": "2024-08-13T08:58:44.652511Z"
    }
   },
   "cell_type": "code",
   "source": [
    "X_train = X_train / 255 # normalize training data\n",
    "X_test = X_test / 255 # normalize test data\n",
    "\n",
    "Y_train = to_categorical(Y_train)\n",
    "Y_test = to_categorical(Y_test)\n",
    "\n",
    "num_classes = Y_test.shape[1] # number of categories"
   ],
   "id": "73191c8f62974215",
   "outputs": [],
   "execution_count": 6
  },
  {
   "metadata": {
    "ExecuteTime": {
     "end_time": "2024-08-13T08:58:44.757187Z",
     "start_time": "2024-08-13T08:58:44.751840Z"
    }
   },
   "cell_type": "code",
   "source": "",
   "id": "603ed7e0114c5e67",
   "outputs": [],
   "execution_count": 6
  }
 ],
 "metadata": {
  "kernelspec": {
   "display_name": "Python 3",
   "language": "python",
   "name": "python3"
  },
  "language_info": {
   "codemirror_mode": {
    "name": "ipython",
    "version": 2
   },
   "file_extension": ".py",
   "mimetype": "text/x-python",
   "name": "python",
   "nbconvert_exporter": "python",
   "pygments_lexer": "ipython2",
   "version": "2.7.6"
  }
 },
 "nbformat": 4,
 "nbformat_minor": 5
}
