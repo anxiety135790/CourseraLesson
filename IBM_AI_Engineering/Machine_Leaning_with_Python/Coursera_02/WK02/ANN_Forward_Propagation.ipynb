﻿{
 "cells": [
  {
   "metadata": {},
   "cell_type": "markdown",
   "source": "## Artificial Neural Networks - Forward Propagation",
   "id": "d24a416680d7055a"
  },
  {
   "metadata": {
    "ExecuteTime": {
     "end_time": "2024-08-12T05:54:20.115509Z",
     "start_time": "2024-08-12T05:54:19.869785Z"
    }
   },
   "cell_type": "code",
   "source": [
    "import numpy as np\n",
    "\n",
    "\n",
    "#initialize the weights and biases\n",
    "weights = np.around(np.random.uniform(low = 0,high = 1,size= 6), decimals= 2)\n",
    "biases  = np.around(np.random.uniform(low =0, high = 1,size= 3), decimals= 2)\n",
    "\n",
    "print(weights)\n",
    "print(biases)"
   ],
   "id": "9078b0546a569ec3",
   "outputs": [
    {
     "name": "stdout",
     "output_type": "stream",
     "text": [
      "[0.18 0.91 0.85 0.93 0.66 0.57]\n",
      "[0.28 0.42 0.7 ]\n"
     ]
    }
   ],
   "execution_count": 1
  },
  {
   "metadata": {
    "ExecuteTime": {
     "end_time": "2024-08-12T05:54:20.122761Z",
     "start_time": "2024-08-12T05:54:20.118701Z"
    }
   },
   "cell_type": "code",
   "source": [
    "x_1 = 0.5\n",
    "x_2 = 0.85\n",
    "print('x1 is {} and x2 is {}'.format(x_1, x_2))\n",
    "\n"
   ],
   "id": "e7286fe0f5da0ad4",
   "outputs": [
    {
     "name": "stdout",
     "output_type": "stream",
     "text": [
      "x1 is 0.5 and x2 is 0.85\n"
     ]
    }
   ],
   "execution_count": 2
  },
  {
   "metadata": {
    "ExecuteTime": {
     "end_time": "2024-08-12T05:54:20.130132Z",
     "start_time": "2024-08-12T05:54:20.125136Z"
    }
   },
   "cell_type": "code",
   "source": [
    "z_11 = x_1 * weights[0] + x_2*weights[1] + biases[0]\n",
    "print('The weighted sum of the inputs at the first node in the hidden layer is {}'\n",
    "            .format(z_11))\n",
    "\n"
   ],
   "id": "564c6e2d0eca8e9a",
   "outputs": [
    {
     "name": "stdout",
     "output_type": "stream",
     "text": [
      "The weighted sum of the inputs at the first node in the hidden layer is 1.1435\n"
     ]
    }
   ],
   "execution_count": 3
  },
  {
   "metadata": {
    "ExecuteTime": {
     "end_time": "2024-08-12T05:54:20.138605Z",
     "start_time": "2024-08-12T05:54:20.133342Z"
    }
   },
   "cell_type": "code",
   "source": [
    "z_12 = x_1 * weights[2] + x_2 * weights[3] + biases[1]\n",
    "print('The weighted sum of the inputs at the second node in the hidden layer is {}'\n",
    "      .format(np.around(z_12, decimals=4)))"
   ],
   "id": "c09e40fe374dc0cc",
   "outputs": [
    {
     "name": "stdout",
     "output_type": "stream",
     "text": [
      "The weighted sum of the inputs at the second node in the hidden layer is 1.6355\n"
     ]
    }
   ],
   "execution_count": 4
  },
  {
   "metadata": {
    "ExecuteTime": {
     "end_time": "2024-08-12T05:54:20.146590Z",
     "start_time": "2024-08-12T05:54:20.140931Z"
    }
   },
   "cell_type": "code",
   "source": [
    "a_11 = 1.0/(1.0 + np.exp(-z_11))\n",
    "\n",
    "print('The activation of the second node in the hidden lay is {}'\n",
    "      .format(np.around(a_11, decimals= 4)))"
   ],
   "id": "15a72122b2a51684",
   "outputs": [
    {
     "name": "stdout",
     "output_type": "stream",
     "text": [
      "The activation of the second node in the hidden lay is 0.7583\n"
     ]
    }
   ],
   "execution_count": 5
  },
  {
   "metadata": {
    "ExecuteTime": {
     "end_time": "2024-08-12T05:54:20.154593Z",
     "start_time": "2024-08-12T05:54:20.149298Z"
    }
   },
   "cell_type": "code",
   "source": [
    "a_12 = 1.0/(1.0 + np.exp(-z_12))\n",
    "print('The activation of the second node in the hidden layer is {}'\n",
    "      .format(np.around(a_12, decimals=4)))"
   ],
   "id": "587723028c561635",
   "outputs": [
    {
     "name": "stdout",
     "output_type": "stream",
     "text": [
      "The activation of the second node in the hidden layer is 0.8369\n"
     ]
    }
   ],
   "execution_count": 6
  },
  {
   "metadata": {
    "ExecuteTime": {
     "end_time": "2024-08-12T05:54:20.162596Z",
     "start_time": "2024-08-12T05:54:20.156880Z"
    }
   },
   "cell_type": "code",
   "source": [
    "z_2 = a_12 * weights[4] + a_12 * weights[5] + biases[2]\n",
    "print('The weighted sum of the inputs at the node in the ouput layer is {}'\n",
    "      .format(np.around(z_2, decimals=4)))"
   ],
   "id": "b88f3a3ceb94fd09",
   "outputs": [
    {
     "name": "stdout",
     "output_type": "stream",
     "text": [
      "The weighted sum of the inputs at the node in the ouput layer is 1.7294\n"
     ]
    }
   ],
   "execution_count": 7
  },
  {
   "metadata": {
    "ExecuteTime": {
     "end_time": "2024-08-12T05:54:20.172105Z",
     "start_time": "2024-08-12T05:54:20.165557Z"
    }
   },
   "cell_type": "code",
   "source": "a_2 = 1.0 / (1.0 + np.exp(-z_2))",
   "id": "cfa073c995b84f20",
   "outputs": [],
   "execution_count": 8
  },
  {
   "metadata": {
    "ExecuteTime": {
     "end_time": "2024-08-12T05:54:20.179391Z",
     "start_time": "2024-08-12T05:54:20.174576Z"
    }
   },
   "cell_type": "code",
   "source": "",
   "id": "fc48b88f3a9b43",
   "outputs": [],
   "execution_count": 8
  },
  {
   "metadata": {},
   "cell_type": "markdown",
   "source": "### Initialize a Network\n",
   "id": "b47e96b73ee92559"
  },
  {
   "metadata": {
    "ExecuteTime": {
     "end_time": "2024-08-12T05:54:20.193888Z",
     "start_time": "2024-08-12T05:54:20.182767Z"
    }
   },
   "cell_type": "code",
   "source": [
    "import numpy as np\n",
    "\n",
    "# set n = 2\n",
    "# number of hidden layers \n",
    "# number of nodes in each hidden layer \n",
    "# number of nodes in the output layer \n",
    "\n",
    "\n",
    "n = 2\n",
    "num_hidden_layers = 2\n",
    "m = [2, 2]\n",
    "num_nodes_output = 1\n",
    "num_nodes_previous = n\n",
    "\n",
    "network = {} # initlizae network an empty dict\n",
    "\n",
    "\n",
    "# loop through each layer and randomly initialize the weights and biases \n",
    "# associatd with each node\n",
    "# notic how we are adding 1 to the number of hidden layers in order to in include \n",
    "# the output layer \n",
    "for layer in range(num_hidden_layers + 1):\n",
    "    \n",
    "    #determine name of layer \n",
    "    \n",
    "    if layer == num_hidden_layers:\n",
    "        layer_name = 'output'\n",
    "        num_nodes = num_nodes_output\n",
    "    else:\n",
    "        layer_name = 'layer_{}'.format(layer + 1)\n",
    "        num_nodes = m[layer]\n",
    "        \n",
    "    # initialize weights and biases\n",
    "    network[layer_name] = {}\n",
    "    \n",
    "    for node in range(num_nodes):\n",
    "        node_name = 'node_{}'.format(node + 1)\n",
    "        network[layer_name][node_name] = {\n",
    "            'weights': np.around( \n",
    "                np.random.uniform(size = num_nodes_previous),\n",
    "                decimals= 2),\n",
    "            'bias': np.around(\n",
    "                np.random.uniform(size=1),\n",
    "                decimals= 20)\n",
    "            }\n",
    "    \n",
    "    num_node_previous = num_nodes\n",
    "    \n",
    "print(network)"
   ],
   "id": "348d31b8ec11b83f",
   "outputs": [
    {
     "name": "stdout",
     "output_type": "stream",
     "text": [
      "{'layer_1': {'node_1': {'weights': array([0.94, 0.89]), 'bias': array([0.17531643])}, 'node_2': {'weights': array([0.25, 0.32]), 'bias': array([0.53783621])}}, 'layer_2': {'node_1': {'weights': array([0.3 , 0.24]), 'bias': array([0.00956008])}, 'node_2': {'weights': array([0.81, 0.57]), 'bias': array([0.26872964])}}, 'output': {'node_1': {'weights': array([0.41, 0.79]), 'bias': array([0.5957509])}}}\n"
     ]
    }
   ],
   "execution_count": 9
  },
  {
   "metadata": {
    "ExecuteTime": {
     "end_time": "2024-08-12T05:54:20.204727Z",
     "start_time": "2024-08-12T05:54:20.196223Z"
    }
   },
   "cell_type": "code",
   "source": [
    "\n",
    "\n",
    "def initialize_network(\n",
    "        num_inputs, num_hidden_layers,\n",
    "        num_nodes_hidden, num_nodes_output):\n",
    "    \n",
    "    num_nodes_previous = num_inputs # number of nodes in the previous layer \n",
    "    network = {}\n",
    "    \n",
    "    #loop through each layer and randomly initialize the weights and biases \n",
    "    #associated with each layer\n",
    "    \n",
    "    for layer in range(num_hidden_layers + 1):\n",
    "        if layer  == num_hidden_layers:\n",
    "            layer_name = 'output'\n",
    "            num_nodes = num_nodes_output  \n",
    "        else:\n",
    "            layer_name = 'layer_{}'.format(layer + 1)   \n",
    "            num_nodes = num_nodes_hidden[layer]\n",
    "     \n",
    "        network[layer_name] = {}\n",
    "        \n",
    "        for node in range(num_nodes):\n",
    "            node_name = 'node_{}'.format(node  + 1)\n",
    "            network[layer_name][node_name] = {\n",
    "                'weights': np.around(np.random.uniform(size = num_nodes_previous),\n",
    "                        decimals= 2),\n",
    "                'bias': np.around(np.random.uniform(size=1), \n",
    "                        decimals=2)\n",
    "            }\n",
    "            \n",
    "        num_nodes_previous = num_nodes\n",
    "        \n",
    "    # return the work\n",
    "    return  network"
   ],
   "id": "940350c928d036c2",
   "outputs": [],
   "execution_count": 10
  },
  {
   "metadata": {
    "ExecuteTime": {
     "end_time": "2024-08-12T05:54:20.213493Z",
     "start_time": "2024-08-12T05:54:20.207280Z"
    }
   },
   "cell_type": "code",
   "source": [
    "def compute_weighted_sum(inputs, weights, bias):\n",
    "    return np.sum(inputs * weights) + bias"
   ],
   "id": "2629bc67a17a1076",
   "outputs": [],
   "execution_count": 11
  },
  {
   "metadata": {
    "ExecuteTime": {
     "end_time": "2024-08-12T05:54:20.222733Z",
     "start_time": "2024-08-12T05:54:20.216152Z"
    }
   },
   "cell_type": "code",
   "source": [
    "from random import seed\n",
    "import numpy as np\n",
    "\n",
    "\n",
    "\n",
    "np.random.seed(12)\n",
    "inputs = np.around(np.random.uniform(size =5),decimals= 2)\n",
    "\n",
    "print('The inputs to the network are {}'.format(inputs))"
   ],
   "id": "127be40605358d64",
   "outputs": [
    {
     "name": "stdout",
     "output_type": "stream",
     "text": [
      "The inputs to the network are [0.15 0.74 0.26 0.53 0.01]\n"
     ]
    }
   ],
   "execution_count": 12
  },
  {
   "metadata": {
    "ExecuteTime": {
     "end_time": "2024-08-12T05:54:20.231559Z",
     "start_time": "2024-08-12T05:54:20.225231Z"
    }
   },
   "cell_type": "code",
   "source": [
    "\n",
    "\n",
    "def node_activation(weighted_sum):\n",
    "    \n",
    "    return 1.0 / (1.0 + np.exp( -1 * weighted_sum))\n"
   ],
   "id": "af3c286fc780269f",
   "outputs": [],
   "execution_count": 13
  },
  {
   "metadata": {
    "ExecuteTime": {
     "end_time": "2024-08-12T05:54:20.246289Z",
     "start_time": "2024-08-12T05:54:20.234739Z"
    }
   },
   "cell_type": "code",
   "source": [
    "\n",
    "\n",
    "def forward_propagate(network, inputs):\n",
    "    layer_inputs = list(inputs)\n",
    "    \n",
    "    for layer in network:\n",
    "        layer_data = network[layer]\n",
    "        \n",
    "        layer_outputs = []\n",
    "        for layer_node in layer_data:\n",
    "            node_data = layer_data[layer_node]\n",
    "            \n",
    "            node_output = node_activation(compute_weighted_sum(\n",
    "                layer_inputs\n",
    "                ,node_data['weights']\n",
    "                ,node_data['bias']))\n",
    "            \n",
    "            layer_outputs.append(np.around(node_output[0], decimals= 4))\n",
    "            \n",
    "        if layer != 'output':\n",
    "            print('The outputs of the nodes in hidden layer number{} is {}'\n",
    "            .format(layer.split('_')[1], layer_outputs))\n",
    "            \n",
    "        layer_inputs = layer_outputs\n",
    "        \n",
    "    network_predictions = layer_outputs\n",
    "    \n",
    "    return  network_predictions\n",
    "\n",
    "\n",
    "my_network = initialize_network(5, 3,[2, 3, 2], 3)\n",
    "\n",
    "inputs = np.around(np.random.uniform(size= 5),decimals= 2)\n",
    "\n",
    "predictions = forward_propagate(my_network, inputs)\n",
    "print('The predicted values by the network for the given input are {}'\n",
    "      .format(predictions))\n",
    "\n"
   ],
   "id": "afbd4e02b4fb7791",
   "outputs": [
    {
     "name": "stdout",
     "output_type": "stream",
     "text": [
      "The outputs of the nodes in hidden layer number1 is [0.8857, 0.8889]\n",
      "The outputs of the nodes in hidden layer number2 is [0.7822, 0.6965, 0.7411]\n",
      "The outputs of the nodes in hidden layer number3 is [0.868, 0.881]\n",
      "The predicted values by the network for the given input are [0.8952, 0.8222, 0.8035]\n"
     ]
    }
   ],
   "execution_count": 14
  }
 ],
 "metadata": {
  "kernelspec": {
   "display_name": "Python 3",
   "language": "python",
   "name": "python3"
  },
  "language_info": {
   "codemirror_mode": {
    "name": "ipython",
    "version": 2
   },
   "file_extension": ".py",
   "mimetype": "text/x-python",
   "name": "python",
   "nbconvert_exporter": "python",
   "pygments_lexer": "ipython2",
   "version": "2.7.6"
  }
 },
 "nbformat": 4,
 "nbformat_minor": 5
}
